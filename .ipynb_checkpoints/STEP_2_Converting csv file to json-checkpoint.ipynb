{
 "cells": [
  {
   "cell_type": "code",
   "execution_count": 1,
   "id": "5c711211",
   "metadata": {},
   "outputs": [],
   "source": [
    "import csv\n",
    "import json"
   ]
  },
  {
   "cell_type": "code",
   "execution_count": 2,
   "id": "925bdd30",
   "metadata": {},
   "outputs": [],
   "source": [
    "csvFilePath = \"Resources/Hardik_Data/Merged_Data.csv\"\n",
    "jsonFilePath = \"merged.json\""
   ]
  },
  {
   "cell_type": "code",
   "execution_count": 3,
   "id": "d7c79918",
   "metadata": {},
   "outputs": [],
   "source": [
    "data=[]\n",
    "data1 = {}\n",
    "with open(csvFilePath, encoding='utf-8') as csvf:\n",
    "    csvReader = csv.DictReader(csvf)\n",
    "\n",
    "    for rows in csvReader:\n",
    "        key = rows['id']\n",
    "        data1[key] = rows\n",
    "        data.append(rows)\n",
    "\n",
    "with open(jsonFilePath, 'w', encoding='utf-8') as jsonf:\n",
    "    jsonf.write(json.dumps(data, indent=4))"
   ]
  },
  {
   "cell_type": "code",
   "execution_count": null,
   "id": "7ae7be84",
   "metadata": {},
   "outputs": [],
   "source": []
  }
 ],
 "metadata": {
  "kernelspec": {
   "display_name": "Python 3 (ipykernel)",
   "language": "python",
   "name": "python3"
  },
  "language_info": {
   "codemirror_mode": {
    "name": "ipython",
    "version": 3
   },
   "file_extension": ".py",
   "mimetype": "text/x-python",
   "name": "python",
   "nbconvert_exporter": "python",
   "pygments_lexer": "ipython3",
   "version": "3.9.13"
  }
 },
 "nbformat": 4,
 "nbformat_minor": 5
}
