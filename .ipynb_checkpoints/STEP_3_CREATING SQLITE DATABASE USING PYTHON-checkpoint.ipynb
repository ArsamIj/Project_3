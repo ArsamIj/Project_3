{
 "cells": [
  {
   "cell_type": "code",
   "execution_count": 1,
   "id": "a93d8ac7",
   "metadata": {},
   "outputs": [],
   "source": [
    "import sqlite3"
   ]
  },
  {
   "cell_type": "code",
   "execution_count": 2,
   "id": "919f8b06",
   "metadata": {},
   "outputs": [],
   "source": [
    "# Create a connection object\n",
    "conn = sqlite3.connect('SQLite.sqlite')"
   ]
  },
  {
   "cell_type": "code",
   "execution_count": 3,
   "id": "1ee27e59",
   "metadata": {},
   "outputs": [],
   "source": [
    "cursor=conn.cursor()"
   ]
  },
  {
   "cell_type": "code",
   "execution_count": 4,
   "id": "018c2941",
   "metadata": {},
   "outputs": [],
   "source": [
    "sql_query=\"\"\" CREATE TABLE book(\n",
    "id integer PRIMARY KEY,\n",
    "Year text NOT NULL,\n",
    "Consumer spending FLOAT NOT NULL,\n",
    "Government spending FLOAT NOT NULL,\n",
    "Government_Share FLOAT NOT NULL,\n",
    "Barrels per Day FLOAT NOT NULL,    \n",
    "IDE FLOAT NOT NULL,     \n",
    "Fuel Type Code text NOT NULL,      \n",
    "City text NOT NULL,     \n",
    "State text NOT NULL,     \n",
    "ZIP text NOT NULL,   \n",
    "Latitude FLOAT NOT NULL,     \n",
    "Longitude FLOAT NOT NULL,    \n",
    "Country text NOT NULL,     \n",
    "Station Name text NOT NULL,     \n",
    "Street Address text NOT NULL,     \n",
    "Intersection Directions text NOT NULL,\n",
    "Access Days Time text NOT NULL,\n",
    "Geocode Status text NOT NULL,\n",
    "Date Last Confirmed text NOT NULL,\n",
    "Updated At text NOT NULL,\n",
    "Open Date text NOT NULL,\n",
    "NG Vehicle Class text NOT NULL,\n",
    "Access_Code text NOT NULL,\n",
    "Facility Type text NOT NULL\n",
    ")\"\"\""
   ]
  },
  {
   "cell_type": "code",
   "execution_count": 5,
   "id": "2abc554c",
   "metadata": {},
   "outputs": [
    {
     "data": {
      "text/plain": [
       "<sqlite3.Cursor at 0x20200ce37a0>"
      ]
     },
     "execution_count": 5,
     "metadata": {},
     "output_type": "execute_result"
    }
   ],
   "source": [
    "cursor.execute(sql_query)"
   ]
  },
  {
   "cell_type": "code",
   "execution_count": 6,
   "id": "a3090ede",
   "metadata": {},
   "outputs": [],
   "source": [
    "# Close the connection\n",
    "conn.close()"
   ]
  },
  {
   "cell_type": "code",
   "execution_count": null,
   "id": "a5b53518",
   "metadata": {},
   "outputs": [],
   "source": []
  },
  {
   "cell_type": "code",
   "execution_count": null,
   "id": "4c5fa283",
   "metadata": {},
   "outputs": [],
   "source": []
  }
 ],
 "metadata": {
  "kernelspec": {
   "display_name": "Python 3 (ipykernel)",
   "language": "python",
   "name": "python3"
  },
  "language_info": {
   "codemirror_mode": {
    "name": "ipython",
    "version": 3
   },
   "file_extension": ".py",
   "mimetype": "text/x-python",
   "name": "python",
   "nbconvert_exporter": "python",
   "pygments_lexer": "ipython3",
   "version": "3.9.13"
  }
 },
 "nbformat": 4,
 "nbformat_minor": 5
}
