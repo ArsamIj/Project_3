{
 "cells": [
  {
   "cell_type": "code",
   "execution_count": 1,
   "id": "f1903653",
   "metadata": {},
   "outputs": [],
   "source": [
    "import csv\n",
    "import json\n"
   ]
  },
  {
   "cell_type": "code",
   "execution_count": 2,
   "id": "4a551a58",
   "metadata": {},
   "outputs": [],
   "source": [
    "csvFilePath = r'Resources/Hardik_Data/Merged_Data.csv'\n",
    "jsonFilePath = r'Merged1.json'\n"
   ]
  },
  {
   "cell_type": "code",
   "execution_count": 3,
   "id": "714a24af",
   "metadata": {},
   "outputs": [],
   "source": [
    "data1 = {}\n",
    "Data =[]\n",
    "with open(csvFilePath, encoding='utf-8') as csvf:\n",
    "    csvReader = csv.DictReader(csvf)\n",
    "\n",
    "    for rows in csvReader:\n",
    "        key = rows['id']\n",
    "        data1[key] = rows\n",
    "        Data.append(rows)\n",
    "        \n",
    "\n",
    "with open(jsonFilePath, 'w', encoding='utf-8') as jsonf:\n",
    "    jsonf.write(json.dumps(Data, indent=4))"
   ]
  },
  {
   "cell_type": "code",
   "execution_count": null,
   "id": "1b262092",
   "metadata": {},
   "outputs": [],
   "source": []
  }
 ],
 "metadata": {
  "kernelspec": {
   "display_name": "Python 3 (ipykernel)",
   "language": "python",
   "name": "python3"
  },
  "language_info": {
   "codemirror_mode": {
    "name": "ipython",
    "version": 3
   },
   "file_extension": ".py",
   "mimetype": "text/x-python",
   "name": "python",
   "nbconvert_exporter": "python",
   "pygments_lexer": "ipython3",
   "version": "3.9.13"
  }
 },
 "nbformat": 4,
 "nbformat_minor": 5
}
