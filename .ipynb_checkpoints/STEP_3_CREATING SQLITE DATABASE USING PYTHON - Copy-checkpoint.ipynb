{
 "cells": [
  {
   "cell_type": "code",
   "execution_count": 1,
   "id": "a93d8ac7",
   "metadata": {},
   "outputs": [],
   "source": [
    "import pandas as pd\n",
    "import sqlite3"
   ]
  },
  {
   "cell_type": "code",
   "execution_count": 2,
   "id": "dc85c588",
   "metadata": {},
   "outputs": [],
   "source": [
    "# Read CSV file into a dataframe\n",
    "df = pd.read_csv('Resources/Hardik_Data/US_EV_Stations_data.csv',low_memory=False)"
   ]
  },
  {
   "cell_type": "code",
   "execution_count": 3,
   "id": "919f8b06",
   "metadata": {},
   "outputs": [],
   "source": [
    "# Create a connection object\n",
    "conn = sqlite3.connect('SQLite1.sqlite')"
   ]
  },
  {
   "cell_type": "code",
   "execution_count": 4,
   "id": "1ee27e59",
   "metadata": {},
   "outputs": [
    {
     "data": {
      "text/plain": [
       "70406"
      ]
     },
     "execution_count": 4,
     "metadata": {},
     "output_type": "execute_result"
    }
   ],
   "source": [
    "# Write the data to a table\n",
    "df.to_sql('Stations', conn, if_exists='replace', index=False)"
   ]
  },
  {
   "cell_type": "code",
   "execution_count": 5,
   "id": "018c2941",
   "metadata": {},
   "outputs": [],
   "source": [
    "\n",
    "# Close the connection\n",
    "conn.close()"
   ]
  },
  {
   "cell_type": "code",
   "execution_count": null,
   "id": "2abc554c",
   "metadata": {},
   "outputs": [],
   "source": []
  }
 ],
 "metadata": {
  "kernelspec": {
   "display_name": "Python 3 (ipykernel)",
   "language": "python",
   "name": "python3"
  },
  "language_info": {
   "codemirror_mode": {
    "name": "ipython",
    "version": 3
   },
   "file_extension": ".py",
   "mimetype": "text/x-python",
   "name": "python",
   "nbconvert_exporter": "python",
   "pygments_lexer": "ipython3",
   "version": "3.9.13"
  }
 },
 "nbformat": 4,
 "nbformat_minor": 5
}
